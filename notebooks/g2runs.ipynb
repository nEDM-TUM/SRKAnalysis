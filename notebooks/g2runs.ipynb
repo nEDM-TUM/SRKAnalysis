{
 "cells": [
  {
   "cell_type": "code",
   "execution_count": 1,
   "metadata": {
    "collapsed": false
   },
   "outputs": [],
   "source": [
    "import sys\n",
    "sys.path.insert(0, '/mnt/data/Eva/Simulation/SRKAnalysis/SRKAnalysis')\n",
    "sys.path.insert(1, '/usr/lib/root')\n",
    "import srkdata \n",
    "import srkmisc \n",
    "import srkmultiprocessing \n",
    "import srkanalysis \n",
    "import sqlite3 \n",
    "import numpy as np \n",
    "from datetime import date \n",
    "import time \n",
    "import srkglobal"
   ]
  },
  {
   "cell_type": "code",
   "execution_count": 2,
   "metadata": {
    "collapsed": false
   },
   "outputs": [
    {
     "name": "stdout",
     "output_type": "stream",
     "text": [
      "Insert String: INSERT INTO RunLog(PhiStart,BSextFieldStrength,NumTracks,SRKVersion,EPSRel,ChamberRotation,BQuadFieldDirection,E0FieldDirection,InitialVel,EPSAbs,ESextFieldAxis,RandomSeed,ESextFieldDirection,PeriodicStopTime,GyromagneticRatio,Title,ChamberRadius,E0FieldStrength,EGradFieldStrength,Date,B0FieldStrength,EQuadFieldDirection,TimeLimit,BSextFieldDirection,TrackFilePath,UseAltStepping,ManualTracking,EQuadFieldAxis,Use2D,Mass,ChamberHeight,RunType,Run,RecordPeriodicSteps,ThetaStart,EQuadFieldStrength,BSextFieldAxis,B0FieldDirection,InitialPos,InitialStepSize,BGradFieldStrength,BQuadFieldAxis,BQuadFieldStrength,ConstStepper,ESextFieldStrength) Values (?,?,?,?,?,?,?,?,?,?,?,?,?,?,?,?,?,?,?,?,?,?,?,?,?,?,?,?,?,?,?,?,?,?,?,?,?,?,?,?,?,?,?,?,?)\n",
      "\n",
      "Values: \n",
      "(1.570796327, 0, 1, 'bcbc8f9f0abf2b3b589b82cf57674441fc835914', 1e-07, '0 0 0', '1 0 0', '0 0 1', '0 0 0', 1e-07, '0 1 0', 0, '1 0 0', 5e-10, -0.00116592091, 'g-2 baseline full measurement period', 10000000000.0, 0.0, 0.0, '01/09/17', -42.52309, '1 0 0', 2.39e-05, '1 0 0', '!dynamic', 0, 1, '0 1 0', 0, 1.8835316e-28, 10000000000.0, 'g-2_UniformOnly_OscillationX', 1, 1, 0.0, 0.0, '0 1 0', '0 0 1', '0.041804007 0 0', 1e-10, 0.0, '0 1 0', 0, 0, 0.0)\n",
      "/mnt/data/Eva/Simulation/work/macros/RID1.mac created.\n",
      "\n",
      "nohup nice -10 /mnt/data/Eva/Simulation/SRK/Debug/SRK /mnt/data/Eva/Simulation/work/macros/RID1.mac > /mnt/data/Eva/Simulation/work/logs/logRID1.txt&\n",
      "Update String: UPDATE RunLog SET ResultsFilePath=?WHERE Run=1\n",
      "\n",
      "Values: \n",
      "('/mnt/data/Eva/Simulation/work/results/Results_RID1.root',)\n"
     ]
    }
   ],
   "source": [
    "start_time = time.time()\n",
    "today = date.today()\n",
    "\n",
    "s = srkdata.default_srk_settings(\"g2\")\n",
    "r = srkdata.default_run_settings(\"g2\")\n",
    "srkglobal.set_computer(\"work_desktop\")\n",
    "\n",
    "# SRK settings and run settings\n",
    "r['Title'] = \"g-2 baseline full measurement period\"\n",
    "r['SRKVersion'] = 'bcbc8f9f0abf2b3b589b82cf57674441fc835914'\n",
    "r['Date'] = today.strftime('%m/%d/%y')\n",
    "r['RunType'] = 'g-2_UniformOnly_OscillationX'\n",
    "r['NumTracks'] = 1\n",
    "\n",
    "s['DefaultPos'] = '0.041804007 0 0'\n",
    "s['BQuadFieldStrength'] = 0\n",
    "s['BSextFieldStrength'] = 0\n",
    "\n",
    "# Create runs for different wall depolarization probabilities\n",
    "#wall_depol=srkmisc.even_sample_over_log(0.000001, 0.00001, 4)\n",
    "#for x in wall_depol:\n",
    "#    s['DepolAtWallProb'] = x\n",
    "    # Adds the run to the database, makes the macro, \n",
    "    # syncs it to Optima server, and runs it on Optima\n",
    "#    srkdata.make_and_run(s,r,\"optima\") \n",
    "#    time.sleep(2) # To ensure random seeds will be different\n",
    "\n",
    "srkdata.make_and_run(s,r)"
   ]
  },
  {
   "cell_type": "code",
   "execution_count": null,
   "metadata": {
    "collapsed": true
   },
   "outputs": [],
   "source": []
  }
 ],
 "metadata": {
  "kernelspec": {
   "display_name": "Python 2",
   "language": "python2",
   "name": "python2"
  },
  "language_info": {
   "codemirror_mode": {
    "name": "ipython",
    "version": 2
   },
   "file_extension": ".py",
   "mimetype": "text/x-python",
   "name": "python",
   "nbconvert_exporter": "python",
   "pygments_lexer": "ipython2",
   "version": "2.7.13"
  }
 },
 "nbformat": 4,
 "nbformat_minor": 2
}
