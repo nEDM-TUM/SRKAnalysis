{
 "cells": [
  {
   "cell_type": "code",
   "execution_count": 80,
   "metadata": {
    "collapsed": true
   },
   "outputs": [],
   "source": [
    "from sympy.simplify.fu import TR8 as trigexp\n",
    "from sympy.simplify.fu import TR3 as trigarg\n",
    "from sympy import symbols, integrate, latex, trigsimp, factor, expand, simplify, cancel, factor_terms, gcd_terms\n",
    "from sympy import sin, cos, pi"
   ]
  },
  {
   "cell_type": "code",
   "execution_count": 41,
   "metadata": {
    "collapsed": false
   },
   "outputs": [],
   "source": [
    "wa, wx, wy, Ax, Ay, K, Q, tpr, tau, q, m, amu = symbols(\"\\omega_a \\omega_x \\omega_y A_x A_y K_B Q t' tau q m a_\\mu\")\n",
    "x = Ax*cos(wx*tpr)\n",
    "y = Ay*cos(wy*tpr)\n",
    "phi0 = -wa * tpr + pi/2"
   ]
  },
  {
   "cell_type": "code",
   "execution_count": 53,
   "metadata": {
    "collapsed": false
   },
   "outputs": [],
   "source": [
    "By = 0\n",
    "Bx = K*y"
   ]
  },
  {
   "cell_type": "code",
   "execution_count": 54,
   "metadata": {
    "collapsed": false
   },
   "outputs": [
    {
     "name": "stdout",
     "output_type": "stream",
     "text": [
      "- \\frac{a_{\\mu} q}{m} \\left(A_{x}^{2} Q \\cos^{2}{\\left (\\omega_{x} t' \\right )} + A_{x} K_{B} \\cos{\\left (\\omega_{x} t' \\right )}\\right)\n"
     ]
    }
   ],
   "source": [
    "dDphi = theta * q/m * amu * Bx * cos(phi0) - q/m * amu * By\n",
    "print latex(dDphi)"
   ]
  },
  {
   "cell_type": "code",
   "execution_count": 31,
   "metadata": {
    "collapsed": false
   },
   "outputs": [
    {
     "name": "stdout",
     "output_type": "stream",
     "text": [
      "- \\frac{A_{x} K_{B} a_{\\mu} q}{\\omega_{x} m} \\sin{\\left (\\omega_{x} \\tau \\right )}\n"
     ]
    }
   ],
   "source": [
    "Dphi = integrate(dDphi, (tpr, 0, tau), conds='none')\n",
    "print latex(Dphi)"
   ]
  },
  {
   "cell_type": "code",
   "execution_count": 44,
   "metadata": {
    "collapsed": false
   },
   "outputs": [
    {
     "name": "stdout",
     "output_type": "stream",
     "text": [
      "-A_x**2*Q*a_\\mu*q*(cos(2*\\omega_x*t') + 1)/(2*m)\n"
     ]
    }
   ],
   "source": [
    "step1 = factor(trigexp(dDphi))\n",
    "print latex(step1)"
   ]
  },
  {
   "cell_type": "code",
   "execution_count": 45,
   "metadata": {
    "collapsed": false
   },
   "outputs": [
    {
     "name": "stdout",
     "output_type": "stream",
     "text": [
      "- \\frac{A_{x}^{2} Q a_{\\mu} q}{2 m} \\left(\\tau + \\frac{1}{2 \\omega_{x}} \\sin{\\left (2 \\omega_{x} \\tau \\right )}\\right)\n"
     ]
    }
   ],
   "source": [
    "Dphi = integrate(step1, (tpr, 0, tau), conds='none')\n",
    "print latex(Dphi)"
   ]
  },
  {
   "cell_type": "code",
   "execution_count": 46,
   "metadata": {
    "collapsed": false
   },
   "outputs": [
    {
     "data": {
      "text/plain": [
       "15.9902388075035"
      ]
     },
     "execution_count": 46,
     "metadata": {},
     "output_type": "execute_result"
    }
   ],
   "source": [
    "Dphi.evalf(subs={wa:-3.4972178e10, wx:1.14661525e9, wy:4.56848918e8, Ax:4.18e-2, Ay:1.6656e-2, K:-8.18378992e-1, Q:-1.8459e-2, q:1.60217662e-19, m:1.88388882e-28, amu:1.16592091e-03, tau:1})"
   ]
  },
  {
   "cell_type": "code",
   "execution_count": 55,
   "metadata": {
    "collapsed": true
   },
   "outputs": [],
   "source": [
    "By = 0\n",
    "Bx = K*y"
   ]
  },
  {
   "cell_type": "code",
   "execution_count": 65,
   "metadata": {
    "collapsed": false
   },
   "outputs": [
    {
     "name": "stdout",
     "output_type": "stream",
     "text": [
      "- \\frac{A_{y} K_{B}}{m} a_{\\mu} q \\cos{\\left (\\omega_{a} t' \\right )} \\cos{\\left (\\omega_{y} t' \\right )}\n"
     ]
    }
   ],
   "source": [
    "dtheta = -q/m * amu * Bx * sin(phi0)\n",
    "print latex(dtheta)\n"
   ]
  },
  {
   "cell_type": "code",
   "execution_count": 57,
   "metadata": {
    "collapsed": false
   },
   "outputs": [
    {
     "name": "stdout",
     "output_type": "stream",
     "text": [
      "- \\frac{A_{y} K_{B}}{m} a_{\\mu} q \\left(\\frac{\\omega_{a} \\cos{\\left (\\omega_{y} \\tau \\right )}}{\\omega_{a}^{2} - \\omega_{y}^{2}} \\sin{\\left (\\omega_{a} \\tau \\right )} - \\frac{\\omega_{y} \\cos{\\left (\\omega_{a} \\tau \\right )}}{\\omega_{a}^{2} - \\omega_{y}^{2}} \\sin{\\left (\\omega_{y} \\tau \\right )}\\right)\n"
     ]
    }
   ],
   "source": [
    "theta = integrate(dtheta, (tpr, 0, tau), conds='none')\n",
    "print latex(theta)"
   ]
  },
  {
   "cell_type": "code",
   "execution_count": 91,
   "metadata": {
    "collapsed": false
   },
   "outputs": [
    {
     "name": "stdout",
     "output_type": "stream",
     "text": [
      "- \\frac{A_{y} K_{B} a_{\\mu} q}{2 m} \\left(\\cos{\\left (t' \\left(\\omega_{a} - \\omega_{y}\\right) \\right )} + \\cos{\\left (t' \\left(\\omega_{a} + \\omega_{y}\\right) \\right )}\\right)\n"
     ]
    }
   ],
   "source": [
    "stage1 = factor_terms(trigexp(dtheta))\n",
    "print latex(stage1)"
   ]
  },
  {
   "cell_type": "code",
   "execution_count": 64,
   "metadata": {
    "collapsed": false
   },
   "outputs": [
    {
     "name": "stdout",
     "output_type": "stream",
     "text": [
      "- \\frac{A_{y} K_{B}}{m} a_{\\mu} q \\cos{\\left (\\omega_{a} t' \\right )} \\cos{\\left (\\omega_{y} t' \\right )}\n"
     ]
    }
   ],
   "source": [
    "stage2 = trigsimp(stage1)\n",
    "print latex(stage2)"
   ]
  },
  {
   "cell_type": "code",
   "execution_count": 104,
   "metadata": {
    "collapsed": false
   },
   "outputs": [
    {
     "name": "stdout",
     "output_type": "stream",
     "text": [
      "-A_y*K_B*a_\\mu*q*(Piecewise((tau, \\omega_a - \\omega_y == 0), (sin(tau*(\\omega_a - \\omega_y))/(\\omega_a - \\omega_y), True)) + Piecewise((tau, \\omega_a + \\omega_y == 0), (sin(tau*(\\omega_a + \\omega_y))/(\\omega_a + \\omega_y), True)))/(2*m)\n"
     ]
    }
   ],
   "source": [
    "theta = integrate(stage1, (tpr, 0, tau), conds='none') #not working good\n",
    "print theta"
   ]
  },
  {
   "cell_type": "code",
   "execution_count": null,
   "metadata": {
    "collapsed": true
   },
   "outputs": [],
   "source": []
  }
 ],
 "metadata": {
  "kernelspec": {
   "display_name": "Python 2",
   "language": "python",
   "name": "python2"
  },
  "language_info": {
   "codemirror_mode": {
    "name": "ipython",
    "version": 2
   },
   "file_extension": ".py",
   "mimetype": "text/x-python",
   "name": "python",
   "nbconvert_exporter": "python",
   "pygments_lexer": "ipython2",
   "version": "2.7.5"
  }
 },
 "nbformat": 4,
 "nbformat_minor": 2
}
